{
 "cells": [
  {
   "cell_type": "code",
   "execution_count": null,
   "id": "b4900568",
   "metadata": {},
   "outputs": [],
   "source": [
    "import warnings \n",
    "warnings.filterwarnings('ignore',category=DeprecationWarning)"
   ]
  },
  {
   "cell_type": "code",
   "execution_count": null,
   "metadata": {},
   "outputs": [],
   "source": [
    "import os \n",
    "import tensorflow as tf \n",
    "import pandas as pd \n",
    "import numpy as np\n",
    "import matplotlib.pyplot as plt \n",
    "from tensorflow.keras import Sequential\n",
    "from tensorflow.keras.optimizers import Adam\n",
    "from tensorflow.keras.losses import CategoricalCrossentropy,SparseCategoricalCrossentropy,BinaryCrossentropy\n",
    "from tensorflow.keras.callbacks import EarlyStopping,ReduceLROnPlateau,ModelCheckpoint,TensorBoard,LearningRateScheduler\n",
    "\n",
    "from tensorflow.keras.models import Model\n",
    "from tensorflow.keras.layers import Conv2D,BatchNormalization,MaxPool2D,Input,InputLayer,Dropout,GlobalAveragePooling2D,Activation,Add\n",
    "from tensorflow.keras.regularizers import L1,L2\n",
    "from tensorflow.keras.metrics import CategoricalAccuracy,TopKCategoricalAccuracy"
   ]
  },
  {
   "cell_type": "code",
   "execution_count": null,
   "id": "6c493568",
   "metadata": {},
   "outputs": [],
   "source": [
    "CONFIGS = {\n",
    "    \"BATCH_SIZE\":32,\n",
    "    \"IM_SIZE\": 256,\n",
    "    \"N_FILTERS\": 32,\n",
    "    \"LEARNING_RATE\": 0.001,\n",
    "    \"N_EPOCHS\":20,\n",
    "    \"DROPOUT_RATE\": 0.0,\n",
    "    \"KERNEL_SIZE\": 3,\n",
    "    \"N_FILTERS\": 6,\n",
    "    \"N_STRIDES\": 1,\n",
    "    \"POOL_SIZE\": 2,\n",
    "    \"N_DENSE_UNITS_1\": 100,\n",
    "    \"N_DENSE_UNITS_2\": 10,\n",
    "    \"N_CLASSES\": 3,\n",
    "    \"REGULARIZER_RATE\": 0.001,\n",
    "    \"LOSS\": CategoricalCrossentropy(),\n",
    "    \"OPTIMIZER\": Adam(learning_rate=0.001),\n",
    "    \"METRICS\": ['accuracy']\n",
    "}"
   ]
  },
  {
   "cell_type": "code",
   "execution_count": null,
   "metadata": {},
   "outputs": [],
   "source": [
    "train_dir = r\"EmotionsDatset\\Emotions Dataset\\Emotions Dataset\\train\"\n",
    "val_dir = r\"EmotionsDatset\\Emotions Dataset\\Emotions Dataset\\test\"\n",
    "CLASS_NAME = [\"angry\",\"happy\",\"sad\"]\n"
   ]
  },
  {
   "cell_type": "code",
   "execution_count": null,
   "metadata": {},
   "outputs": [],
   "source": [
    "train_dataset = tf.keras.utils.image_dataset_from_directory(\n",
    "    train_dir,\n",
    "    labels=\"inferred\",\n",
    "    label_mode=\"categorical\",\n",
    "    class_names=CLASS_NAME,\n",
    "    color_mode=\"rgb\",\n",
    "    batch_size=32,\n",
    "    image_size=(256, 256),\n",
    "    shuffle=True,\n",
    "    seed=99\n",
    ") \n",
    "\n",
    "val_dataset = tf.keras.utils.image_dataset_from_directory(\n",
    "    val_dir,\n",
    "    labels=\"inferred\",\n",
    "    label_mode=\"categorical\",\n",
    "    class_names=CLASS_NAME,\n",
    "    color_mode=\"rgb\",\n",
    "    batch_size=32,\n",
    "    image_size=(256, 256),\n",
    "    shuffle=True,\n",
    "    seed=99\n",
    ") "
   ]
  },
  {
   "cell_type": "code",
   "execution_count": null,
   "metadata": {},
   "outputs": [],
   "source": [
    "for i in val_dataset.take(1):\n",
    "    print(i)"
   ]
  },
  {
   "cell_type": "code",
   "execution_count": null,
   "metadata": {},
   "outputs": [],
   "source": [
    "plt.figure(figsize=(12,12))\n",
    "for image,label in train_dataset.take(1):\n",
    "    for i in range(16):\n",
    "        ax = plt.subplot(4,4,i+1)\n",
    "        plt.imshow(image[i]/255.0)\n",
    "\n",
    "        plt.title(CLASS_NAME[tf.argmax(label[i],axis = 0).numpy()])\n",
    "        # plt.axis('off')"
   ]
  },
  {
   "cell_type": "code",
   "execution_count": null,
   "metadata": {},
   "outputs": [],
   "source": [
    "train_dataset = train_dataset.prefetch(tf.data.AUTOTUNE)\n",
    "val_dataset = val_dataset.prefetch(tf.data.AUTOTUNE)\n"
   ]
  },
  {
   "cell_type": "code",
   "execution_count": null,
   "id": "8b7f59d7",
   "metadata": {},
   "outputs": [],
   "source": [
    "from tensorflow.keras.layers import Resizing,Rescaling,Dense,Flatten"
   ]
  },
  {
   "cell_type": "code",
   "execution_count": null,
   "id": "f2db36bb",
   "metadata": {},
   "outputs": [],
   "source": [
    "resize_rescale_layer = Sequential([\n",
    "    Resizing(CONFIGS['IM_SIZE'], CONFIGS['IM_SIZE']),\n",
    "    Rescaling(1./255)\n",
    "])"
   ]
  },
  {
   "cell_type": "code",
   "execution_count": null,
   "id": "c7973b3c",
   "metadata": {},
   "outputs": [],
   "source": [
    "lenet_model_builder = Sequential([\n",
    "    InputLayer(input_shape = (CONFIGS['IM_SIZE'], CONFIGS['IM_SIZE'], 3)),\n",
    "    Resizing(CONFIGS['IM_SIZE'], CONFIGS['IM_SIZE']),\n",
    "    Rescaling(1./255),\n",
    "    Conv2D(filters = CONFIGS['N_FILTERS'], kernel_size = CONFIGS['KERNEL_SIZE'],strides=CONFIGS['N_STRIDES'], activation = 'relu', padding = 'same', kernel_regularizer = L2(CONFIGS['REGULARIZER_RATE'])),\n",
    "    BatchNormalization(),\n",
    "    MaxPool2D(pool_size=CONFIGS['POOL_SIZE'], strides=CONFIGS['N_STRIDES']*2),\n",
    "    Dropout(rate=CONFIGS['DROPOUT_RATE']),\n",
    "    Conv2D(filters = CONFIGS['N_FILTERS']*2+4, kernel_size = CONFIGS['KERNEL_SIZE'], strides=CONFIGS['N_STRIDES'], activation = 'relu', padding = 'same', kernel_regularizer = L2(CONFIGS['REGULARIZER_RATE'])),\n",
    "    BatchNormalization(),\n",
    "    MaxPool2D(pool_size=CONFIGS['POOL_SIZE'], strides=CONFIGS['N_STRIDES']*2),\n",
    "    Flatten(),\n",
    "    \n",
    "    Dense(units = CONFIGS['N_DENSE_UNITS_1'],activation='relu',kernel_regularizer=L2(CONFIGS['REGULARIZER_RATE'])),\n",
    "\n",
    "    BatchNormalization(),\n",
    "    Dropout(rate=CONFIGS['DROPOUT_RATE']),\n",
    "\n",
    "    Dense(units = CONFIGS['N_DENSE_UNITS_2'],activation='relu',kernel_regularizer=L2(CONFIGS['REGULARIZER_RATE'])),\n",
    "\n",
    "    BatchNormalization(),\n",
    "\n",
    "    Dense(units = CONFIGS[\"N_CLASSES\"], activation='softmax', kernel_regularizer=L2(CONFIGS['REGULARIZER_RATE']))\n",
    "])"
   ]
  },
  {
   "cell_type": "code",
   "execution_count": null,
   "metadata": {},
   "outputs": [],
   "source": [
    "lenet_model_builder.summary()"
   ]
  },
  {
   "cell_type": "code",
   "execution_count": null,
   "metadata": {},
   "outputs": [],
   "source": [
    "lenet_model_builder.compile(\n",
    "    optimizer=CONFIGS['OPTIMIZER'], \n",
    "    loss=CONFIGS['LOSS'],\n",
    "    metrics=[\n",
    "        CategoricalAccuracy(name = 'accuracy'),\n",
    "        TopKCategoricalAccuracy(k = 2,name = 'top-2-accuracy')\n",
    "        ]\n",
    ")"
   ]
  },
  {
   "cell_type": "code",
   "execution_count": null,
   "metadata": {},
   "outputs": [],
   "source": [
    "earlystop = EarlyStopping(monitor='val_loss', patience=3, restore_best_weights=True)"
   ]
  },
  {
   "cell_type": "code",
   "execution_count": null,
   "metadata": {},
   "outputs": [],
   "source": [
    "lenet_model_builder.fit(\n",
    "    train_dataset,validation_data = val_dataset,\n",
    "    epochs = CONFIGS['N_EPOCHS'],\n",
    "    verbose = 1,\n",
    "    callbacks=[\n",
    "        earlystop\n",
    "    ]\n",
    "\n",
    ")"
   ]
  },
  {
   "cell_type": "code",
   "execution_count": null,
   "id": "5432ea45",
   "metadata": {},
   "outputs": [],
   "source": [
    "lenet_model_builder.evaluate(val_dataset)"
   ]
  },
  {
   "cell_type": "code",
   "execution_count": null,
   "id": "c2785b2f",
   "metadata": {},
   "outputs": [],
   "source": [
    "plt.plot(lenet_model_builder.history.history['accuracy'], label='train_accuracy')\n",
    "plt.plot(lenet_model_builder.history.history['val_accuracy'], label='val_accuracy')\n",
    "plt.plot(lenet_model_builder.history.history['val_loss'], label='val_loss')\n",
    "plt.plot(lenet_model_builder.history.history['loss'], label='training_loss')\n",
    "\n",
    "plt.xlabel('Epochs')   \n",
    "plt.legend()"
   ]
  },
  {
   "cell_type": "code",
   "execution_count": null,
   "id": "9358147c",
   "metadata": {},
   "outputs": [],
   "source": [
    "plt.figure(figsize=(16,16))\n",
    "\n",
    "for image, label in val_dataset.take(1):\n",
    "    for i in range(16):\n",
    "        ax = plt.subplot(4,4,i+1)\n",
    "        plt.imshow(image[i] / 255.0)\n",
    "\n",
    "        # True label\n",
    "        true_class = CLASS_NAME[int(tf.argmax(label[i], axis=0))]\n",
    "\n",
    "        # Model prediction (add batch dimension)\n",
    "        preds = lenet_model_builder(tf.expand_dims(image[i], axis=0), training=False)\n",
    "        pred_class = CLASS_NAME[int(tf.argmax(preds, axis=1))]\n",
    "\n",
    "        plt.title(f\"True Label: {true_class}\\nPredicted Class: {pred_class}\")\n",
    "        plt.axis(\"off\")"
   ]
  },
  {
   "cell_type": "code",
   "execution_count": null,
   "metadata": {},
   "outputs": [],
   "source": [
    "predicted = []\n",
    "labels = []\n",
    "\n",
    "for image,label in val_dataset:\n",
    "    predicted.append(lenet_model_builder(image,training = False)) \n",
    "    labels.append(label.numpy())  "
   ]
  },
  {
   "cell_type": "code",
   "execution_count": null,
   "id": "5eccea8d",
   "metadata": {},
   "outputs": [],
   "source": [
    "print(np.argmax(labels[:-1], axis=-1).flatten())\n",
    "print(np.argmax(predicted[:-1], axis=-1).flatten())"
   ]
  },
  {
   "cell_type": "code",
   "execution_count": null,
   "id": "ca5abde4",
   "metadata": {},
   "outputs": [],
   "source": [
    "preds = np.argmax(predicted[:-1], axis=-1).flatten()\n",
    "labels = np.argmax(labels[:-1], axis=-1).flatten()"
   ]
  },
  {
   "cell_type": "code",
   "execution_count": null,
   "id": "64597af3",
   "metadata": {},
   "outputs": [],
   "source": [
    "from sklearn.metrics import confusion_matrix\n",
    "\n",
    "import seaborn as sns\n"
   ]
  },
  {
   "cell_type": "code",
   "execution_count": null,
   "id": "a29aceb5",
   "metadata": {},
   "outputs": [],
   "source": [
    "cm = confusion_matrix(labels, preds)\n",
    "sns.heatmap(cm,annot=True, fmt='d', cmap='Blues', xticklabels=CLASS_NAME, yticklabels=CLASS_NAME)\n",
    "plt.xlabel('Predicted')"
   ]
  },
  {
   "cell_type": "code",
   "execution_count": null,
   "id": "55402b38",
   "metadata": {},
   "outputs": [],
   "source": [
    "from tensorflow.keras.layers import RandomContrast,RandomFlip,RandomRotation"
   ]
  },
  {
   "cell_type": "code",
   "execution_count": null,
   "id": "2a41de5f",
   "metadata": {},
   "outputs": [],
   "source": [
    "augment_layers = Sequential([\n",
    "    RandomFlip(mode = \"horizontal\"),\n",
    "    RandomRotation(factor =(0.25,0.25)),\n",
    "    RandomContrast(0.1),\n",
    "])\n",
    "\n",
    "def augument_data(image,label):\n",
    "    return augment_layers(image,training = True),label"
   ]
  },
  {
   "cell_type": "code",
   "execution_count": null,
   "id": "06017fb8",
   "metadata": {},
   "outputs": [],
   "source": [
    "train_dataset_aug = (\n",
    "    train_dataset.map(augument_data,num_parallel_calls=tf.data.AUTOTUNE).prefetch(tf.data.AUTOTUNE)\n",
    ")"
   ]
  },
  {
   "cell_type": "code",
   "execution_count": null,
   "id": "4f34e36c",
   "metadata": {},
   "outputs": [],
   "source": [
    "lenet_model_aug = Sequential([\n",
    "    InputLayer(input_shape = (CONFIGS['IM_SIZE'], CONFIGS['IM_SIZE'], 3)),\n",
    "    Resizing(CONFIGS['IM_SIZE'], CONFIGS['IM_SIZE']),\n",
    "    Rescaling(1./255),\n",
    "    Conv2D(filters = CONFIGS['N_FILTERS'], kernel_size = CONFIGS['KERNEL_SIZE'],strides=CONFIGS['N_STRIDES'], activation = 'relu', padding = 'same', kernel_regularizer = L2(CONFIGS['REGULARIZER_RATE'])),\n",
    "    BatchNormalization(),\n",
    "    MaxPool2D(pool_size=CONFIGS['POOL_SIZE'], strides=CONFIGS['N_STRIDES']*2),\n",
    "    Dropout(rate=CONFIGS['DROPOUT_RATE']),\n",
    "    Conv2D(filters = CONFIGS['N_FILTERS']*2+4, kernel_size = CONFIGS['KERNEL_SIZE'], strides=CONFIGS['N_STRIDES'], activation = 'relu', padding = 'same', kernel_regularizer = L2(CONFIGS['REGULARIZER_RATE'])),\n",
    "    BatchNormalization(),\n",
    "    MaxPool2D(pool_size=CONFIGS['POOL_SIZE'], strides=CONFIGS['N_STRIDES']*2),\n",
    "    Flatten(),\n",
    "    \n",
    "    Dense(units = CONFIGS['N_DENSE_UNITS_1'],activation='relu',kernel_regularizer=L2(CONFIGS['REGULARIZER_RATE'])),\n",
    "\n",
    "    BatchNormalization(),\n",
    "    Dropout(rate=CONFIGS['DROPOUT_RATE']),\n",
    "\n",
    "    Dense(units = CONFIGS['N_DENSE_UNITS_2'],activation='relu',kernel_regularizer=L2(CONFIGS['REGULARIZER_RATE'])),\n",
    "\n",
    "    BatchNormalization(),\n",
    "\n",
    "    Dense(units = CONFIGS[\"N_CLASSES\"], activation='softmax', kernel_regularizer=L2(CONFIGS['REGULARIZER_RATE']))\n",
    "])\n",
    "lenet_model_aug.compile(\n",
    "    optimizer='adam', \n",
    "    loss=CONFIGS['LOSS'],\n",
    "    metrics=[\n",
    "        CategoricalAccuracy(name = 'accuracy'),\n",
    "        TopKCategoricalAccuracy(k = 2,name = 'top-2-accuracy')\n",
    "        ]\n",
    ")"
   ]
  },
  {
   "cell_type": "code",
   "execution_count": null,
   "id": "76a0b2f4",
   "metadata": {},
   "outputs": [],
   "source": [
    "import tensorflow as tf\n",
    "tf.config.run_functions_eagerly(True)\n"
   ]
  },
  {
   "cell_type": "code",
   "execution_count": null,
   "id": "af137d93",
   "metadata": {},
   "outputs": [],
   "source": [
    "lenet_model_aug.fit(\n",
    "    train_dataset_aug,validation_data = val_dataset,\n",
    "    epochs = CONFIGS['N_EPOCHS'],\n",
    "    verbose = 1,\n",
    "    callbacks=[\n",
    "        earlystop\n",
    "    ]\n",
    ")"
   ]
  },
  {
   "cell_type": "code",
   "execution_count": null,
   "id": "1d902fce",
   "metadata": {},
   "outputs": [],
   "source": [
    "lenet_model_aug.evaluate(val_dataset)"
   ]
  },
  {
   "cell_type": "code",
   "execution_count": null,
   "id": "503d5e8b",
   "metadata": {},
   "outputs": [],
   "source": [
    "import pickle\n",
    "\n",
    "# Save\n",
    "with open(\"LeNet_history.pkl\", \"wb\") as f:\n",
    "    pickle.dump(lenet_model_builder.history, f)"
   ]
  },
  {
   "cell_type": "code",
   "execution_count": null,
   "id": "49c9dda9",
   "metadata": {},
   "outputs": [],
   "source": []
  }
 ],
 "metadata": {
  "kernelspec": {
   "display_name": "Python 3",
   "language": "python",
   "name": "python3"
  },
  "language_info": {
   "codemirror_mode": {
    "name": "ipython",
    "version": 3
   },
   "file_extension": ".py",
   "mimetype": "text/x-python",
   "name": "python",
   "nbconvert_exporter": "python",
   "pygments_lexer": "ipython3",
   "version": "3.13.0"
  }
 },
 "nbformat": 4,
 "nbformat_minor": 5
}
